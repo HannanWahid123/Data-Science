{
 "cells": [
  {
   "cell_type": "markdown",
   "metadata": {},
   "source": [
    "<center><h1>Python Programming Crash Course for Data Science</h1></center>"
   ]
  },
  {
   "cell_type": "markdown",
   "metadata": {},
   "source": [
    "## Table of contents\n",
    "\n",
    "* [The Rise of Python](#rise_python)\n",
    "* [Why use Python for Data Science?](#why_py)\n",
    "* [How Python Works Under the Hood](#py_uth)\n",
    "* [Basic Syntax](#basic_syntx)\n",
    "* [Python Data Types](#py_data)\n",
    "* [Conditional Statements](#con_stmnt)\n",
    "* [Loops](#loops)\n",
    "* [Lists](#lists)\n",
    "* [Tuples](#tuples)\n",
    "* [Sets](#sets)"
   ]
  },
  {
   "cell_type": "markdown",
   "metadata": {},
   "source": [
    "<a id='rise_python'></a>\n",
    "## The Rise of Python\n",
    "\n",
    "<img src=\"imgs/python-logo.png\" alt=\"drawing\" width=\"800\">\n",
    "\n",
    "### The Story\n",
    "Python was introduced by **Guido Van Rossum** in 1989. \n",
    "\n",
    "When we talk about the history of Python, we cannot miss **ABC** programming language because it was ABCs influence that led to the design and development of programming language called Python.\n",
    "\n",
    "In the early **1980s**, Van Rossum used to work at **CWI** (Centrum voor Wiskunde en Informatica) as an implementer of the programming language called ABC. Later at CWI in the late 1980s, while working on a new distributed operating system called **AMOEBA**, Van Rossum started looking for a scripting language with a syntax like ABC but with the access to the Amoeba system calls. So Van Rossum himself started designing a new simple scripting language that could overcome the flaws of ABC.\n",
    "\n",
    "Van Rossum started developing the new script in the late 1980s and finally introduced the first version of that programming language in 1991. Later on, this programming language was named **'Python'**.\n",
    "\n",
    "### Reason behind its name\n",
    "Often people assume that the name Python was written after a snake. Even the logo of Python programming language depicts the picture of two snakes, blue and yellow. But, the story behind the naming is somewhat different.\n",
    "\n",
    "Back in the 1970s, there was a popular BBC comedy tv show called **Monty Python’s Fly Circus** and Van Rossum happened to be the big fan of that show. So when Python was developed, Rossum named the project ‘Python’.\n",
    "\n",
    "### Timeline of different Python versions releases\n",
    "The first ever version of Python(i.e. Python 1.0) was introduced in 1991. Since its inception and introduction of Version 1, the evolution of Python has reached up to Version 3.x (till 2017).\n",
    "\n",
    "Here is the brief chart depicting the timeline of the release of different versions of Python programming language.\n",
    "\n",
    "<img src=\"imgs/py_versions.jpg\" alt=\"drawing\" width=\"800\">\n",
    "\n",
    "<div style=\"text-align: right\"> \n",
    "    Source: <a href=\"http://www.trytoprogram.com/images/pythonhistory.jpg\">trytoprogram</a>\n",
    "</div>\n"
   ]
  },
  {
   "cell_type": "markdown",
   "metadata": {},
   "source": [
    "### Which version are we using?"
   ]
  },
  {
   "cell_type": "code",
   "execution_count": null,
   "metadata": {},
   "outputs": [],
   "source": [
    "!python --version"
   ]
  },
  {
   "cell_type": "markdown",
   "metadata": {},
   "source": [
    "### Whats new in Python 3\n",
    "* Print is now a function\n",
    "* Views and iterators instead of lists\n",
    "* The rules for ordering comparisons have been simplified. E.g. a heterogeneous list cannot be sorted, because all the elements of a list must be comparable to each other.\n",
    "* There is only one integer type left, i.e. int. long is int as well.\n",
    "* The division of two integers returns a float instead of an integer. \"//\" can be used to have the \"old\" behaviour.\n",
    "* Text Vs. Data Instead Of Unicode Vs. 8-bit"
   ]
  },
  {
   "cell_type": "markdown",
   "metadata": {},
   "source": [
    "### The philosophy of Python (The Zen of Python)"
   ]
  },
  {
   "cell_type": "code",
   "execution_count": null,
   "metadata": {},
   "outputs": [],
   "source": [
    "import this"
   ]
  },
  {
   "cell_type": "markdown",
   "metadata": {},
   "source": [
    "<a id='why_py'></a>\n",
    "## Why use Python for Data Science?\n",
    "\n",
    "<!--- <img src=\"imgs/jupyter-logo.svg\" alt=\"drawing\" width=\"200\"> -->\n",
    "\n",
    "* Easy to learn, use and read\n",
    "* Straightforward and speedy\n",
    "* Extremely Scalable\n",
    "* Python is multi-paradigm and supports functional, procedural and object oriented programming styles.\n",
    "* Python can be used in mobile/web development (Server-side scripting)\n",
    "* Python provides efficient scientific and numeric computing support\n",
    "* Huge amount of built-in modules\n",
    "* Portability and interactivity\n",
    "* Plenty of Data science libraries (ML/DL/CV)\n",
    "* Easy deployment facilities\n",
    "* Python community\n",
    "\n",
    "**Check the popularity of Python in the following websites:**\n",
    "* http://pypl.github.io/PYPL.html\n",
    "* https://www.tiobe.com/tiobe-index/"
   ]
  },
  {
   "cell_type": "markdown",
   "metadata": {},
   "source": [
    "* **Python Official Website:** https://www.python.org/\n",
    "* **Python Official Documentation:** https://docs.python.org/3/tutorial/index.html\n",
    "* **Best Book (to me):** https://python-textbok.readthedocs.io/en/1.0/\n",
    "* **Python Unofficial:** https://www.lfd.uci.edu/~gohlke/pythonlibs/"
   ]
  },
  {
   "cell_type": "markdown",
   "metadata": {},
   "source": [
    "<a id='py_uth'></a>\n",
    "## How Python Works Under the Hood\n",
    "\n",
    "<img src=\"imgs/python_working.png\" alt=\"drawing\" width=\"800\">\n",
    "\n",
    "<div style=\"text-align: right\"> \n",
    "    Source: <a href=\"https://cdncontribute.geeksforgeeks.org/wp-content/uploads/python_working.png\">geeksforgeeks</a>\n",
    "</div>\n",
    "\n",
    "* **Step 1 :** The interpreter reads a python code or instruction. Then it verifies that the instruction is well formatted, i.e. it checks the syntax of each line.If it encounters any error, it immediately halts the translation and shows an error message.\n",
    "* **Step 2 :** If there is no error, i.e. if the python instruction or code is well formatted then the interpreter translates it into its equivalent form in intermediate language called “Byte code”.Thus, after successful execution of Python script or code, it is completely translated into Byte code.\n",
    "* **Step 3 :** Byte code is sent to the Python Virtual Machine(PVM).Here again the byte code is executed on PVM.If an error occurs during this execution then the execution is halted with an error message."
   ]
  },
  {
   "cell_type": "markdown",
   "metadata": {},
   "source": [
    "<a id='basic_syntx'></a>\n",
    "## Basic Syntax\n",
    "\n",
    "<!--- <img src=\"imgs/jupyter-logo.svg\" alt=\"drawing\" width=\"200\"> -->"
   ]
  },
  {
   "cell_type": "markdown",
   "metadata": {},
   "source": [
    "### Printing output\n",
    "Use \"print()\" function to print any output into the compute something."
   ]
  },
  {
   "cell_type": "code",
   "execution_count": null,
   "metadata": {
    "scrolled": true
   },
   "outputs": [],
   "source": [
    "print(\"Hello Python\")\n",
    "print(\"2+2\")\n",
    "print(2+2)"
   ]
  },
  {
   "cell_type": "markdown",
   "metadata": {},
   "source": [
    "### Quotes\n",
    "* Single quotes (' '): To print text.\n",
    "* Double quotes (\" \"): To print text that may contain single quotes.\n",
    "* Triple quotes (\"\"\" \"\"\"): To print multiline text that may contain single or double quotes."
   ]
  },
  {
   "cell_type": "code",
   "execution_count": null,
   "metadata": {},
   "outputs": [],
   "source": [
    "print('Hello Data Science Class')\n",
    "print(\"Hello 'Data Science' Class\")\n",
    "print(\"\"\" \"Hello 'Data Science' Class\" \n",
    " How's going?\n",
    "\"\"\")"
   ]
  },
  {
   "cell_type": "markdown",
   "metadata": {},
   "source": [
    "### Optional arguments to the print function\n",
    "* sep — used to change or get rid of spaces that print inserts\n",
    "* end — used to change or get rid of when print jumps to next line"
   ]
  },
  {
   "cell_type": "code",
   "execution_count": null,
   "metadata": {
    "scrolled": true
   },
   "outputs": [],
   "source": [
    "print(1, 2, 3, 4, 5, sep='') # prints 12345\n",
    "print(1, 2, 3, 4, 5, sep='/') # prints 1/2/3/4/5\n",
    "print(1, 2, 3, 4, 5, end='\\n\\n\\n')"
   ]
  },
  {
   "cell_type": "markdown",
   "metadata": {},
   "source": [
    "### Getting input\n",
    "Use eval with input when getting a number, input alone when getting text."
   ]
  },
  {
   "cell_type": "code",
   "execution_count": null,
   "metadata": {
    "scrolled": true
   },
   "outputs": [],
   "source": [
    "name = input(\"Enter your name: \")\n",
    "num = eval(input(\"Enter a number: \"))\n",
    "\n",
    "print(name)\n",
    "print(num/2)"
   ]
  },
  {
   "cell_type": "markdown",
   "metadata": {},
   "source": [
    "### Math formulas\n",
    "\n",
    "$+, -, *$, and $/$ are the four basic math operators. Also:\n",
    "\n",
    "| Operator | What it does      | Examples    |\n",
    "|----------|-------------------|-------------|\n",
    "| **       | Powers            | 5**2        |\n",
    "| %        | Modulo (remainder)| 19 % 5 = 4  |\n",
    "| //       | Integer division  | 5//3 = 1    |"
   ]
  },
  {
   "cell_type": "code",
   "execution_count": null,
   "metadata": {
    "scrolled": true
   },
   "outputs": [],
   "source": [
    "print(5+2)\n",
    "print(4-1)\n",
    "print(7*8)\n",
    "print(9/4)"
   ]
  },
  {
   "cell_type": "code",
   "execution_count": null,
   "metadata": {
    "scrolled": true
   },
   "outputs": [],
   "source": [
    "print(5**2)\n",
    "print(19%5)\n",
    "print(6//3)"
   ]
  },
  {
   "cell_type": "markdown",
   "metadata": {},
   "source": [
    "A math formula like $3x + 5$ needs the times symbol, like this:"
   ]
  },
  {
   "cell_type": "code",
   "execution_count": null,
   "metadata": {},
   "outputs": [],
   "source": [
    "x = 5\n",
    "y = 3*x + 5\n",
    "print(y)"
   ]
  },
  {
   "cell_type": "markdown",
   "metadata": {},
   "source": [
    "Order (PEMDAS) of operations matters. Use parentheses if necessary. An average calculation:"
   ]
  },
  {
   "cell_type": "code",
   "execution_count": null,
   "metadata": {},
   "outputs": [],
   "source": [
    "x = 6\n",
    "y = 3\n",
    "z = 9\n",
    "avg = (x + y + z) / 3\n",
    "print(avg)"
   ]
  },
  {
   "cell_type": "markdown",
   "metadata": {},
   "source": [
    "To use common math functions, **import** them from the **math** module. For instance,"
   ]
  },
  {
   "cell_type": "code",
   "execution_count": null,
   "metadata": {},
   "outputs": [],
   "source": [
    "from math import sin, pi\n",
    "\n",
    "print(\"The sine of pi is\", sin(pi))"
   ]
  },
  {
   "cell_type": "markdown",
   "metadata": {},
   "source": [
    "The absolute value and round functions don’t need to be imported:"
   ]
  },
  {
   "cell_type": "code",
   "execution_count": null,
   "metadata": {
    "scrolled": true
   },
   "outputs": [],
   "source": [
    "print(\"The absolute value of -3 is\", abs(-3))\n",
    "print(\"4/3 rounded to two decimal places is\", round(4/3, 2))"
   ]
  },
  {
   "cell_type": "markdown",
   "metadata": {},
   "source": [
    "### Random Numbers"
   ]
  },
  {
   "cell_type": "code",
   "execution_count": null,
   "metadata": {
    "scrolled": false
   },
   "outputs": [],
   "source": [
    "from random import randint\n",
    "x = randint(1, 5)\n",
    "print(x)"
   ]
  },
  {
   "cell_type": "markdown",
   "metadata": {},
   "source": [
    "The import line goes near the top of your program. Use **randint(a,b)** to get a random number\n",
    "from a to b (including a and b)."
   ]
  },
  {
   "cell_type": "markdown",
   "metadata": {},
   "source": [
    "<a id='py_data'></a>\n",
    "## Python Datatypes\n",
    "\n",
    "<!--- <img src=\"imgs/jupyter-logo.svg\" alt=\"drawing\" width=\"200\"> -->"
   ]
  },
  {
   "cell_type": "markdown",
   "metadata": {},
   "source": [
    "Python provides the following 6 datatypes:\n",
    "\n",
    "* Numbers\n",
    "* List\n",
    "* Tuple\n",
    "* Strings\n",
    "* Set\n",
    "* Dictionary"
   ]
  },
  {
   "cell_type": "markdown",
   "metadata": {},
   "source": [
    "### Python Numbers\n",
    "\n",
    "Integers, floating point numbers and complex numbers falls under Python numbers category. They are defined as **int, float** and **complex** class in Python. See the following examples:"
   ]
  },
  {
   "cell_type": "markdown",
   "metadata": {},
   "source": [
    "We can use the **type()** function to know which class a variable or a value belongs to and the **isinstance()** function to check if an object belongs to a particular class."
   ]
  },
  {
   "cell_type": "code",
   "execution_count": null,
   "metadata": {},
   "outputs": [],
   "source": [
    "a = 5\n",
    "print(a, \"is of type\", type(a))\n",
    "\n",
    "b = 2.0\n",
    "print(b, \"is of type\", type(b))\n",
    "\n",
    "c = 1+2j\n",
    "print(c, \"is of type\", type(c))"
   ]
  },
  {
   "cell_type": "code",
   "execution_count": null,
   "metadata": {
    "scrolled": true
   },
   "outputs": [],
   "source": [
    "print(a, \"is instance of int:\", isinstance(a, int))\n",
    "print(b, \"is instance of float:\", isinstance(b, float))\n",
    "print(c, \"is instance of complex:\", isinstance(c, complex))"
   ]
  },
  {
   "cell_type": "markdown",
   "metadata": {},
   "source": [
    "* Integers can be of any length, it is only limited by the memory available.\n",
    "\n",
    "* A floating point number is accurate up to $15$ decimal places. Integer and floating points are separated by decimal points. $1$ is integer, $1.0$ is floating point number.\n",
    "\n",
    "* Complex numbers are written in the form, $x + yj$, where $x$ is the real part and $y$ is the imaginary part."
   ]
  },
  {
   "cell_type": "markdown",
   "metadata": {},
   "source": [
    "<a id='con_stmnt'></a>\n",
    "## Conditional Statements\n",
    "\n",
    "<!--- <img src=\"imgs/jupyter-logo.svg\" alt=\"drawing\" width=\"200\"> -->"
   ]
  },
  {
   "cell_type": "markdown",
   "metadata": {},
   "source": [
    "### Common if statements"
   ]
  },
  {
   "cell_type": "code",
   "execution_count": null,
   "metadata": {},
   "outputs": [],
   "source": [
    "x = 3\n",
    "\n",
    "if x == 3: # if x is 3\n",
    "    print(\"X is 3\")"
   ]
  },
  {
   "cell_type": "code",
   "execution_count": null,
   "metadata": {},
   "outputs": [],
   "source": [
    "if x != 5: # if x is not 3\n",
    "    print(\"X is not 5\")"
   ]
  },
  {
   "cell_type": "code",
   "execution_count": null,
   "metadata": {},
   "outputs": [],
   "source": [
    "if x >= 1 and x <= 5: # if x is between 1 and 5\n",
    "    print(\"X is between 1 and 5\")"
   ]
  },
  {
   "cell_type": "code",
   "execution_count": null,
   "metadata": {},
   "outputs": [],
   "source": [
    "if x == 1 or x == 3: # if x is 1 or 2\n",
    "    print(\"X is not 1 nor 2\")"
   ]
  },
  {
   "cell_type": "code",
   "execution_count": null,
   "metadata": {},
   "outputs": [],
   "source": [
    "name = \"kuddus\"\n",
    "\n",
    "if name == \"kuddus\": # checking strings\n",
    "    print(name)"
   ]
  },
  {
   "cell_type": "code",
   "execution_count": null,
   "metadata": {},
   "outputs": [],
   "source": [
    "y = 2\n",
    "\n",
    "if (x == 3 or x == 5) and y == 2: # use parens in complicated statements\n",
    "    print(x, y)"
   ]
  },
  {
   "cell_type": "markdown",
   "metadata": {},
   "source": [
    "### if/else statements"
   ]
  },
  {
   "cell_type": "code",
   "execution_count": null,
   "metadata": {},
   "outputs": [],
   "source": [
    "num = 5\n",
    "guess = 2\n",
    "\n",
    "if guess == num:\n",
    "    print(\"You got it!\")\n",
    "else:\n",
    "    print(\"You missed it.\")"
   ]
  },
  {
   "cell_type": "markdown",
   "metadata": {},
   "source": [
    "### if/elif/else statements\n",
    "* It is useful if something can be one of several possibilities"
   ]
  },
  {
   "cell_type": "code",
   "execution_count": null,
   "metadata": {},
   "outputs": [],
   "source": [
    "entry = input(\"Do you have any discount? (yes/no):\")\n",
    "\n",
    "if entry == \"yes\":\n",
    "    print(\"Your total bill is $45.00\")\n",
    "elif entry == \"no\":\n",
    "    print(\"Your total bill is $50.00\")\n",
    "else:\n",
    "    print(\"Invalid entry\")"
   ]
  },
  {
   "cell_type": "markdown",
   "metadata": {},
   "source": [
    "<a id='loops'></a>\n",
    "## Loops\n",
    "\n",
    "<!--- <img src=\"imgs/jupyter-logo.svg\" alt=\"drawing\" width=\"200\"> -->"
   ]
  },
  {
   "cell_type": "markdown",
   "metadata": {},
   "source": [
    "### For Loops Basics"
   ]
  },
  {
   "cell_type": "markdown",
   "metadata": {},
   "source": [
    "The following line will print hello 5 times."
   ]
  },
  {
   "cell_type": "code",
   "execution_count": null,
   "metadata": {},
   "outputs": [],
   "source": [
    "for i in range(5):\n",
    "    print(\"hello\")"
   ]
  },
  {
   "cell_type": "markdown",
   "metadata": {},
   "source": [
    "Indentation is used to tell what statements will be repeated. \n",
    "The statement below alternates printing A and B 5 times and then prints Bye once."
   ]
  },
  {
   "cell_type": "code",
   "execution_count": null,
   "metadata": {
    "scrolled": true
   },
   "outputs": [],
   "source": [
    "for i in range(5):\n",
    "    print(\"A\")\n",
    "    print(\"B\")\n",
    "print(\"Bye\")"
   ]
  },
  {
   "cell_type": "markdown",
   "metadata": {},
   "source": [
    "The $i$ variable in a for loop keeps track of where you are in the loop. In a simple for loop it starts off at $0$ and goes to one $less$ than whatever is in the range. The example below prints out the value of $i$ at each step and will end up printing the numbers from $0\\, to \\,9$"
   ]
  },
  {
   "cell_type": "code",
   "execution_count": null,
   "metadata": {},
   "outputs": [],
   "source": [
    "for i in range(1, 10, 2):\n",
    "    print(i, end=\" \")"
   ]
  },
  {
   "cell_type": "markdown",
   "metadata": {},
   "source": [
    "**The range statement**— Here are some example ranges:\n",
    "\n",
    "| Statement      | Values generated     |\n",
    "|----------------|----------------------|\n",
    "| range(10)      | 0,1,2,3,4,5,6,7,8,9  |\n",
    "| range(5,10)    | 5,6,7,8,9            |\n",
    "| range(1,10,2)  | 1,3,5,7,9            |\n",
    "| range(10,0,-1) | 10,9,8,7,6,5,4,3,2,1 |"
   ]
  },
  {
   "cell_type": "markdown",
   "metadata": {},
   "source": [
    "One tricky thing is that the **endpoint of the range is never included** in the numbers generated.\n",
    "\n",
    "For instance, range(1,10) stops at 9."
   ]
  },
  {
   "cell_type": "markdown",
   "metadata": {},
   "source": [
    "### While Loops"
   ]
  },
  {
   "cell_type": "code",
   "execution_count": null,
   "metadata": {},
   "outputs": [],
   "source": [
    "i = 1\n",
    "while i < 6:\n",
    "    print(i)\n",
    "    i += 1"
   ]
  },
  {
   "cell_type": "code",
   "execution_count": null,
   "metadata": {},
   "outputs": [],
   "source": [
    "i = 1\n",
    "while i is not 5:\n",
    "    print(i)\n",
    "    i+=1"
   ]
  },
  {
   "cell_type": "markdown",
   "metadata": {},
   "source": [
    "<a id='lists'></a>\n",
    "## Lists\n",
    "\n",
    "<!--- <img src=\"imgs/jupyter-logo.svg\" alt=\"drawing\" width=\"200\"> -->"
   ]
  },
  {
   "cell_type": "markdown",
   "metadata": {},
   "source": [
    "**Definition:** List is a collection which is ordered, heterogeneous and changeable (mutable). \n",
    "\n",
    "It allows duplicate members.\n",
    "\n",
    "**Things that work for lists:**\n",
    "* Indices and slices\n",
    "* The **in** operator for checking if something is in a list/string\n",
    "* The count and index methods\n",
    "* \\+ and \\* are used for adding and repeating lists\n",
    "* Looping"
   ]
  },
  {
   "cell_type": "markdown",
   "metadata": {},
   "source": [
    "### List creation"
   ]
  },
  {
   "cell_type": "code",
   "execution_count": null,
   "metadata": {},
   "outputs": [],
   "source": [
    "ls = [1,2,3,4]\n",
    "ls = list([1,2,3])\n",
    "empty_ls = list()\n",
    "empty_ls = []"
   ]
  },
  {
   "cell_type": "markdown",
   "metadata": {},
   "source": [
    "### Indices and slices \n",
    "— Suppose L = [0,1,2,3,4,5,6,7,8,9]:\n",
    "\n",
    "| Statement | Result                | Description                        |\n",
    "|-----------|-----------------------|------------------------------------|\n",
    "| L[0]      | 0                     | first member of L                  |\n",
    "| L[1]      | 1                     | second member of L                 |\n",
    "| L[-1]     | 9                     | last member of L                   |\n",
    "| L[-2]     | 8                     | second-to-last member of L         |\n",
    "| L[:3]     | [0,1,2]               | first three members                |\n",
    "| L[-3:]    | [7,8,9]               | last three members                 |\n",
    "| L[2:5]    | [2,3,4]               | members at indices 2, 3, 4         |\n",
    "| L[5:]     | [5,6,7,8,9]           | members from index 5 to the end    |\n",
    "| L[:]      | [0,1,2,3,4,5,6,7,8,9] | entire list                        |\n",
    "| L[1:7:2]  | [1,3,5]               | members from index 1 to 6, by twos |\n",
    "| L[::-1]   | [9,8,7,6,5,4,3,2,1,0] | L in reverse                       |\n",
    "\n",
    "**Warning:** Slices are like range in that they don’t include the last index."
   ]
  },
  {
   "cell_type": "markdown",
   "metadata": {},
   "source": [
    "### Useful functions that work on lists\n",
    "\n",
    "| Function | Result                            |\n",
    "|----------|-----------------------------------|\n",
    "| max(L)   | returns the largest item in L     |\n",
    "| min(L)   | returns the largest item in L     |\n",
    "| sum(L)   | returns the sum of the items in L |\n",
    "| len(L)   | returns the number of items in L  |"
   ]
  },
  {
   "cell_type": "markdown",
   "metadata": {},
   "source": [
    "### A few useful list methods\n",
    "| Method        | Description                                       |\n",
    "|---------------|---------------------------------------------------|\n",
    "| L.append(x)   | adds x to the end of the list                     |\n",
    "| L.sort()      | sorts the list                                    |\n",
    "| L.count(x)    | returns the number of times x occurs in the list  |\n",
    "| L.index(x)    | returns the location of the first occurrence of x |\n",
    "| L.reverse()   | reverses the list                                 |\n",
    "| L.remove(x)   | removes first occurrence of x from the list       |\n",
    "| L.pop(p)      | removes the item at index p and returns its value |\n",
    "| L.insert(p,x) | inserts x at index p of the list                  |\n",
    "\n",
    "* Use **dir()** methods to see all the available functions for list"
   ]
  },
  {
   "cell_type": "markdown",
   "metadata": {},
   "source": [
    "### To change a single element in a list\n",
    "\n",
    "The following changes the first element in the list L to 99."
   ]
  },
  {
   "cell_type": "code",
   "execution_count": null,
   "metadata": {},
   "outputs": [],
   "source": [
    "L = [9,100,101]\n",
    "L[0] = 99\n",
    "print(L)"
   ]
  },
  {
   "cell_type": "markdown",
   "metadata": {},
   "source": [
    "### To delete an element from list by index"
   ]
  },
  {
   "cell_type": "code",
   "execution_count": null,
   "metadata": {},
   "outputs": [],
   "source": [
    "del L[0]\n",
    "print(L)"
   ]
  },
  {
   "cell_type": "markdown",
   "metadata": {},
   "source": [
    "### To build up a list one item at a time\n",
    "\n",
    "Here is a program that builds up a list of 10 random numbers from 1 to 20:"
   ]
  },
  {
   "cell_type": "code",
   "execution_count": null,
   "metadata": {},
   "outputs": [],
   "source": [
    "from random import randint\n",
    "\n",
    "L = []\n",
    "\n",
    "for i in range(10):\n",
    "    L.append(randint(1,20))\n",
    "    \n",
    "print(L)"
   ]
  },
  {
   "cell_type": "markdown",
   "metadata": {},
   "source": [
    "The general technique for building up a list is to start with an empty list and append things in\n",
    "one at a time."
   ]
  },
  {
   "cell_type": "markdown",
   "metadata": {},
   "source": [
    "### Using input to get a list\n",
    "If you want to ask the user to enter a list, you can use something this:"
   ]
  },
  {
   "cell_type": "code",
   "execution_count": null,
   "metadata": {
    "scrolled": true
   },
   "outputs": [],
   "source": [
    "L = eval(input(\"Enter a list:\"))\n",
    "print(L)"
   ]
  },
  {
   "cell_type": "markdown",
   "metadata": {},
   "source": [
    "The user needs to enter the list exactly as you would put it into a Python program, using brackets. \n",
    "\n",
    "If you replace eval with list, the user can omit the brackets."
   ]
  },
  {
   "cell_type": "markdown",
   "metadata": {},
   "source": [
    "### Getting random things from lists\n",
    "\n",
    "These functions are useful. To use them, you need to import them from the random module\n",
    "\n",
    "| Statement    | Result                              |\n",
    "|--------------|-------------------------------------|\n",
    "| choice(L)    | returns a random item from L        |\n",
    "| sample(L, n) | returns n random items from L       |\n",
    "| shuffle(L)   | puts the items of L in random order |"
   ]
  },
  {
   "cell_type": "markdown",
   "metadata": {},
   "source": [
    "### The split method\n",
    "The split method is a very useful method for breaking a string up. For example:"
   ]
  },
  {
   "cell_type": "code",
   "execution_count": null,
   "metadata": {},
   "outputs": [],
   "source": [
    "s = \"imran@gmail.com\"\n",
    "L = s.split('@')\n",
    "print(L)\n",
    "print(L[0], L[-1])"
   ]
  },
  {
   "cell_type": "markdown",
   "metadata": {},
   "source": [
    "By default, split will break things up at whitespace (spaces, tabs, and newlines). \n",
    "\n",
    "To break things up at something different, say at slashes, use something like the following:"
   ]
  },
  {
   "cell_type": "code",
   "execution_count": null,
   "metadata": {},
   "outputs": [],
   "source": [
    "s = \"3/14/2013\"\n",
    "L = s.split(\"/\")\n",
    "print(L)\n",
    "\n",
    "day = int(L[0]) #The int in this line is needed if we want to do math with the day.\n",
    "\n",
    "print(day)"
   ]
  },
  {
   "cell_type": "markdown",
   "metadata": {},
   "source": [
    "### Two-dimensional lists"
   ]
  },
  {
   "cell_type": "markdown",
   "metadata": {},
   "source": [
    "Here is how to create a 3 × 3 list of zeros:"
   ]
  },
  {
   "cell_type": "code",
   "execution_count": null,
   "metadata": {},
   "outputs": [],
   "source": [
    "L = [[0, 0, 0, 0],\n",
    "     [0, 0, 0, 0],\n",
    "     [0, 0, 0, 0]]\n",
    "\n",
    "print(L)"
   ]
  },
  {
   "cell_type": "markdown",
   "metadata": {},
   "source": [
    "We use two indices to access individual items. To get the entry in row r, column c, use **L[r][c]**.\n",
    "\n",
    "When working with two dimensional lists, two for loops are often used, one for the rows and one for\n",
    "the columns. The following prints a 3 × 3 list:"
   ]
  },
  {
   "cell_type": "code",
   "execution_count": null,
   "metadata": {},
   "outputs": [],
   "source": [
    "for r in range(3):\n",
    "    for c in range(3):\n",
    "        print(L[r][c], end=\" \")\n",
    "    print()"
   ]
  },
  {
   "cell_type": "markdown",
   "metadata": {},
   "source": [
    "Here is a quick way to create a large two-dimensional list (this one is 100 × 50):"
   ]
  },
  {
   "cell_type": "code",
   "execution_count": null,
   "metadata": {},
   "outputs": [],
   "source": [
    "L = [[0]*50 for i in range(100)]"
   ]
  },
  {
   "cell_type": "markdown",
   "metadata": {},
   "source": [
    "<a id='tuples'></a>\n",
    "## Tuples\n",
    "\n",
    "<!--- <img src=\"imgs/jupyter-logo.svg\" alt=\"drawing\" width=\"200\"> -->"
   ]
  },
  {
   "cell_type": "markdown",
   "metadata": {},
   "source": [
    "**Definition:** A tuple is a collection which is ordered, heterogeneous and unchangeable (immutable). \n",
    "\n",
    "In Python tuples are written with round brackets.\n",
    "\n",
    "* Tuples supports all operations as lists"
   ]
  },
  {
   "cell_type": "markdown",
   "metadata": {},
   "source": [
    "### Tuple creation"
   ]
  },
  {
   "cell_type": "code",
   "execution_count": null,
   "metadata": {},
   "outputs": [],
   "source": [
    "t = (1,2,3)\n",
    "t = tuple(['a','b','c'])"
   ]
  },
  {
   "cell_type": "markdown",
   "metadata": {},
   "source": [
    "### Why use a tuple instead of a list?\n",
    "\n",
    "* Program execution is faster when manipulating a tuple than it is for the equivalent list. (This is probably not going to be noticeable when the list or tuple is small.)\n",
    "\n",
    "* Sometimes you don’t want data to be modified. If the values in the collection are meant to remain constant for the life of the program, using a tuple instead of a list guards against accidental modification.\n",
    "\n",
    "* There is another Python data type that you will encounter shortly called a dictionary, which requires as one of its components a value that is of an immutable type. A tuple can be used for this purpose, whereas a list can’t be."
   ]
  },
  {
   "cell_type": "markdown",
   "metadata": {},
   "source": [
    "<a id='sets'></a>\n",
    "## Sets\n",
    "\n",
    "<!--- <img src=\"imgs/jupyter-logo.svg\" alt=\"drawing\" width=\"200\"> -->"
   ]
  },
  {
   "cell_type": "markdown",
   "metadata": {},
   "source": [
    "**Definition:** A set is a collection which is unordered, heterogeneous, and unindexed. \n",
    "\n",
    "In Python sets are written with curly brackets.\n",
    "\n",
    "**IMPORTANT:**\n",
    "* Set elements are unique. Duplicate elements are not allowed.\n",
    "* A set itself may be modified, but the elements contained in the set must be of an immutable type."
   ]
  },
  {
   "cell_type": "markdown",
   "metadata": {},
   "source": [
    "### Sets creation"
   ]
  },
  {
   "cell_type": "code",
   "execution_count": null,
   "metadata": {},
   "outputs": [],
   "source": [
    "s = {1,2,3,3,4}\n",
    "s = set([1,2,3,3,4])\n",
    "\n",
    "print(s)"
   ]
  },
  {
   "cell_type": "markdown",
   "metadata": {},
   "source": [
    "### Access Items\n",
    "You cannot access items in a set by referring to an index, since sets are unordered the items has no index.\n",
    "\n",
    "But you can loop through the set items using a **for** loop, or ask if a specified value is present in a set, by using the **in** keyword. For example:"
   ]
  },
  {
   "cell_type": "code",
   "execution_count": null,
   "metadata": {
    "scrolled": false
   },
   "outputs": [],
   "source": [
    "for x in s:\n",
    "    print(x)"
   ]
  },
  {
   "cell_type": "markdown",
   "metadata": {},
   "source": [
    "### Performing Union operation"
   ]
  },
  {
   "cell_type": "code",
   "execution_count": null,
   "metadata": {},
   "outputs": [],
   "source": [
    "s1 = {1,2,3}\n",
    "s2 = {3,4,5}\n",
    "\n",
    "print(s1|s2)"
   ]
  },
  {
   "cell_type": "markdown",
   "metadata": {},
   "source": [
    "### Performing Intersection operation"
   ]
  },
  {
   "cell_type": "code",
   "execution_count": null,
   "metadata": {},
   "outputs": [],
   "source": [
    "s1 = {1,2,3}\n",
    "s2 = {3,4,5}\n",
    "\n",
    "print(s1&s2)"
   ]
  },
  {
   "cell_type": "markdown",
   "metadata": {},
   "source": [
    "### The functions you can use for set"
   ]
  },
  {
   "cell_type": "code",
   "execution_count": null,
   "metadata": {},
   "outputs": [],
   "source": [
    "dir(set)"
   ]
  }
 ],
 "metadata": {
  "kernelspec": {
   "display_name": "Python 3 (ipykernel)",
   "language": "python",
   "name": "python3"
  },
  "language_info": {
   "codemirror_mode": {
    "name": "ipython",
    "version": 3
   },
   "file_extension": ".py",
   "mimetype": "text/x-python",
   "name": "python",
   "nbconvert_exporter": "python",
   "pygments_lexer": "ipython3",
   "version": "3.10.1"
  }
 },
 "nbformat": 4,
 "nbformat_minor": 2
}
